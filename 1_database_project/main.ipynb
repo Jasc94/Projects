{
 "cells": [
  {
   "cell_type": "code",
   "execution_count": 1,
   "source": [
    "import pandas as pd\n",
    "import sqlite3\n",
    "\n",
    "import sys, os\n",
    "\n",
    "import utils.mining_data_tb as md\n",
    "import utils.sql_tb as sq\n",
    "\n",
    "import warnings\n",
    "\n",
    "warnings.filterwarnings(\"ignore\")"
   ],
   "outputs": [],
   "metadata": {}
  },
  {
   "cell_type": "code",
   "execution_count": 2,
   "source": [
    "# Connection to database\n",
    "connection = sqlite3.connect(\"health_canada.db\")\n",
    "# Extracting data from csv files\n",
    "tables = md.data_to_tables(\"data/\")\n",
    "# Creating database and tables\n",
    "sq.tables_to_sql(connection, tables)"
   ],
   "outputs": [
    {
     "output_type": "stream",
     "name": "stdout",
     "text": [
      "Tables were correctly loaded\n"
     ]
    }
   ],
   "metadata": {}
  },
  {
   "cell_type": "code",
   "execution_count": 11,
   "source": [
    "query = \"\"\"\n",
    "SELECT f.FoodDescription, fg.FoodGroupName, ya.YieldAmount, yn.YieldDescription\n",
    "FROM food_name f\n",
    "JOIN food_group fg, yield_amount ya, yield_name yn\n",
    "ON f.FoodGroupID = fg.FoodGroupId\n",
    "AND f.FoodID = ya.FoodID\n",
    "AND ya.YieldID = yn.YieldID\n",
    "\"\"\"\n",
    "\n",
    "pd.read_sql_query(query, connection)"
   ],
   "outputs": [],
   "metadata": {}
  },
  {
   "cell_type": "code",
   "execution_count": null,
   "source": [],
   "outputs": [],
   "metadata": {}
  }
 ],
 "metadata": {
  "orig_nbformat": 4,
  "language_info": {
   "name": "python",
   "version": "3.7.4",
   "mimetype": "text/x-python",
   "codemirror_mode": {
    "name": "ipython",
    "version": 3
   },
   "pygments_lexer": "ipython3",
   "nbconvert_exporter": "python",
   "file_extension": ".py"
  },
  "kernelspec": {
   "name": "python3",
   "display_name": "Python 3.7.4 64-bit"
  },
  "interpreter": {
   "hash": "aee8b7b246df8f9039afb4144a1f6fd8d2ca17a180786b69acc140d282b71a49"
  }
 },
 "nbformat": 4,
 "nbformat_minor": 2
}