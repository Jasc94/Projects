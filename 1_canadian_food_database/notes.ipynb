{
 "cells": [
  {
   "cell_type": "markdown",
   "source": [
    "# SQL STATEMENTS ORDER\n",
    "\n",
    "## Writing order\n",
    "[Image source](https://sqlbolt.com/lesson/select_queries_order_of_execution)\n",
    "<img src=\"documents/writing_order.png\">\n",
    "\n",
    "## Execution order\n",
    "[Image source](https://learnsql.com/blog/sql-order-of-operations/)\n",
    "<img src=\"documents/execution_order.png\">"
   ],
   "metadata": {}
  },
  {
   "cell_type": "code",
   "execution_count": null,
   "source": [
    "query = \"\"\"\n",
    "SELECT f.FoodDescription, fg.FoodGroupName, ya.YieldAmount, yn.YieldDescription\n",
    "FROM food_name f\n",
    "JOIN food_group fg, yield_amount ya, yield_name yn\n",
    "ON f.FoodGroupID = fg.FoodGroupId\n",
    "AND f.FoodID = ya.FoodID\n",
    "AND ya.YieldID = yn.YieldID\n",
    "\"\"\"\n",
    "\n",
    "pd.read_sql_query(query, connection)"
   ],
   "outputs": [],
   "metadata": {}
  },
  {
   "cell_type": "code",
   "execution_count": null,
   "source": [
    "query = \"\"\"\n",
    "SELECT f.FoodDescription, fg.FoodGroupName, ya.YieldAmount, yn.YieldDescription\n",
    "FROM food_name f\n",
    "JOIN food_group fg, yield_amount ya, yield_name yn\n",
    "ON f.FoodGroupID = fg.FoodGroupId\n",
    "AND f.FoodID = ya.FoodID\n",
    "AND ya.YieldID = yn.YieldID;\n",
    "\"\"\"\n",
    "\n",
    "pd.read_sql_query(query, connection)"
   ],
   "outputs": [],
   "metadata": {}
  },
  {
   "cell_type": "code",
   "execution_count": null,
   "source": [
    "query = \"\"\"\n",
    "SELECT f.FoodDescription, cf.ConversionFactorValue, m.MeasureDescription\n",
    "FROM food_name f\n",
    "JOIN conversion_factor cf, measure_name m\n",
    "ON f.FoodID = cf.FoodID\n",
    "AND cf.MeasureID = m.MeasureID;\n",
    "\"\"\"\n",
    "\n",
    "pd.read_sql_query(query, connection)"
   ],
   "outputs": [],
   "metadata": {}
  },
  {
   "cell_type": "code",
   "execution_count": null,
   "source": [
    "query = \"\"\"\n",
    "SELECT\n",
    "fg.FoodGroupName, f.FoodDescription, nn.NutrientName, na.NutrientValue\n",
    "FROM food_group fg\n",
    "JOIN food_name f, nutrient_amount na, nutrient_name nn\n",
    "ON fg.FoodGroupId = f.FoodGroupId\n",
    "AND f.FoodID = na.FoodID\n",
    "AND na.NutrientID = nn.NutrientId;\n",
    "\"\"\"\n",
    "\n",
    "pd.read_sql_query(query, connection)"
   ],
   "outputs": [],
   "metadata": {}
  },
  {
   "cell_type": "code",
   "execution_count": null,
   "source": [
    "# Top 20 foods by protein\n",
    "query = \"\"\"\n",
    "SELECT DISTINCT f.FoodDescription, na.NutrientValue, nn.NutrientName\n",
    "FROM food_name f\n",
    "JOIN nutrient_amount na, nutrient_name nn\n",
    "ON f.FoodID = na.FoodID\n",
    "AND na.NutrientID = nn.NutrientID\n",
    "WHERE nn.NutrientName = ?\n",
    "ORDER BY na.NutrientValue DESC\n",
    "LIMIT 20\n",
    "\"\"\"\n",
    "\n",
    "params = (\"PROTEIN\",)\n",
    "pd.read_sql_query(query, connection, params = params)"
   ],
   "outputs": [],
   "metadata": {}
  },
  {
   "cell_type": "code",
   "execution_count": null,
   "source": [
    "# Let's check the top protein food groups by average\n",
    "query = \"\"\"\n",
    "SELECT fg.FoodGroupName as 'Food Group', nn.NutrientName as 'Nutrient', AVG(na.NutrientValue) as 'Group average'\n",
    "FROM food_group fg\n",
    "JOIN food_name f, nutrient_amount na, nutrient_name nn\n",
    "ON fg.FoodGroupID = f.FoodGroupID\n",
    "AND f.FoodID = na.FoodID\n",
    "AND na.NutrientID = nn.NutrientID\n",
    "WHERE nn.NutrientName = 'PROTEIN'\n",
    "GROUP BY (fg.FoodGroupID)\n",
    "ORDER BY AVG(na.NutrientValue) DESC\n",
    "\"\"\"\n",
    "\n",
    "pd.read_sql_query(query, connection)"
   ],
   "outputs": [],
   "metadata": {}
  }
 ],
 "metadata": {
  "orig_nbformat": 4,
  "language_info": {
   "name": "python"
  }
 },
 "nbformat": 4,
 "nbformat_minor": 2
}