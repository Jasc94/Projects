{
 "cells": [
  {
   "cell_type": "code",
   "execution_count": 1,
   "source": [
    "import numpy as np\n",
    "import pandas as pd\n",
    "\n",
    "import matplotlib.pyplot as plt\n",
    "import seaborn as sns\n",
    "\n",
    "import sys, os\n",
    "\n",
    "# Helpers\n",
    "abspath = os.path.abspath\n",
    "dirname = os.path.dirname\n",
    "sep = os.sep\n",
    "\n",
    "# Update sys.path for in-house libraries\n",
    "folder_ = dirname(abspath(os.getcwd()))\n",
    "for i in range(1): folder_ = dirname(folder_)\n",
    "sys.path.append(folder_)\n",
    "\n",
    "# In-house libraries\n",
    "import src.utils.mining_data_tb as md\n",
    "import src.utils.folder_tb as fo"
   ],
   "outputs": [],
   "metadata": {}
  },
  {
   "cell_type": "code",
   "execution_count": 2,
   "source": [
    "# Path to data\n",
    "data_path = fo.path_to_folder(2,\"data\" + sep + \"environment\")"
   ],
   "outputs": [],
   "metadata": {}
  },
  {
   "cell_type": "code",
   "execution_count": 3,
   "source": [
    "# Loading data\n",
    "nutrition_df = pd.read_csv(data_path + \"nutritional_values.csv\", index_col = 0)\n",
    "daily_intakes_df = pd.read_csv(data_path + \"daily_intakes.csv\")\n",
    "\n",
    "# Some extra tweaking\n",
    "nutrition_df.set_index(\"Food name\", inplace = True)"
   ],
   "outputs": [],
   "metadata": {}
  },
  {
   "cell_type": "code",
   "execution_count": 4,
   "source": [
    "nutrition_df.head(2)"
   ],
   "outputs": [
    {
     "output_type": "execute_result",
     "data": {
      "text/plain": [
       "             Category number      Category name  Protein (g)  Water (g)  \\\n",
       "Food name                                                                 \n",
       "Milk, human             9602         Human milk         1.03      87.50   \n",
       "Milk, NFS               1004  Milk, reduced fat         3.34      89.04   \n",
       "\n",
       "             Fiber, total dietary (g)  Vitamin A, RAE (mcg)  Thiamin (mg)  \\\n",
       "Food name                                                                   \n",
       "Milk, human                       0.0                    61         0.014   \n",
       "Milk, NFS                         0.0                    59         0.057   \n",
       "\n",
       "             Riboflavin (mg)  Niacin (mg)  Vitamin B-6 (mg)  ...  \\\n",
       "Food name                                                    ...   \n",
       "Milk, human            0.036        0.177             0.011  ...   \n",
       "Milk, NFS              0.137        0.110             0.060  ...   \n",
       "\n",
       "             Energy (kcal)  Sugars, total (g)  Total Fat (g)  \\\n",
       "Food name                                                      \n",
       "Milk, human             70               6.89           4.38   \n",
       "Milk, NFS               51               4.89           1.99   \n",
       "\n",
       "             Fatty acids, total saturated (g)  \\\n",
       "Food name                                       \n",
       "Milk, human                             2.009   \n",
       "Milk, NFS                               1.164   \n",
       "\n",
       "             Fatty acids, total monounsaturated (g)  \\\n",
       "Food name                                             \n",
       "Milk, human                                   1.658   \n",
       "Milk, NFS                                     0.426   \n",
       "\n",
       "             Fatty acids, total polyunsaturated (g)  Cholesterol (mg)  \\\n",
       "Food name                                                               \n",
       "Milk, human                                   0.497                14   \n",
       "Milk, NFS                                     0.065                 8   \n",
       "\n",
       "             Vitamin D (D2 + D3) (mcg)  Category 2  Category 3  \n",
       "Food name                                                       \n",
       "Milk, human                        0.1       Milks      Animal  \n",
       "Milk, NFS                          1.1       Milks      Animal  \n",
       "\n",
       "[2 rows x 29 columns]"
      ],
      "text/html": [
       "<div>\n",
       "<style scoped>\n",
       "    .dataframe tbody tr th:only-of-type {\n",
       "        vertical-align: middle;\n",
       "    }\n",
       "\n",
       "    .dataframe tbody tr th {\n",
       "        vertical-align: top;\n",
       "    }\n",
       "\n",
       "    .dataframe thead th {\n",
       "        text-align: right;\n",
       "    }\n",
       "</style>\n",
       "<table border=\"1\" class=\"dataframe\">\n",
       "  <thead>\n",
       "    <tr style=\"text-align: right;\">\n",
       "      <th></th>\n",
       "      <th>Category number</th>\n",
       "      <th>Category name</th>\n",
       "      <th>Protein (g)</th>\n",
       "      <th>Water (g)</th>\n",
       "      <th>Fiber, total dietary (g)</th>\n",
       "      <th>Vitamin A, RAE (mcg)</th>\n",
       "      <th>Thiamin (mg)</th>\n",
       "      <th>Riboflavin (mg)</th>\n",
       "      <th>Niacin (mg)</th>\n",
       "      <th>Vitamin B-6 (mg)</th>\n",
       "      <th>...</th>\n",
       "      <th>Energy (kcal)</th>\n",
       "      <th>Sugars, total (g)</th>\n",
       "      <th>Total Fat (g)</th>\n",
       "      <th>Fatty acids, total saturated (g)</th>\n",
       "      <th>Fatty acids, total monounsaturated (g)</th>\n",
       "      <th>Fatty acids, total polyunsaturated (g)</th>\n",
       "      <th>Cholesterol (mg)</th>\n",
       "      <th>Vitamin D (D2 + D3) (mcg)</th>\n",
       "      <th>Category 2</th>\n",
       "      <th>Category 3</th>\n",
       "    </tr>\n",
       "    <tr>\n",
       "      <th>Food name</th>\n",
       "      <th></th>\n",
       "      <th></th>\n",
       "      <th></th>\n",
       "      <th></th>\n",
       "      <th></th>\n",
       "      <th></th>\n",
       "      <th></th>\n",
       "      <th></th>\n",
       "      <th></th>\n",
       "      <th></th>\n",
       "      <th></th>\n",
       "      <th></th>\n",
       "      <th></th>\n",
       "      <th></th>\n",
       "      <th></th>\n",
       "      <th></th>\n",
       "      <th></th>\n",
       "      <th></th>\n",
       "      <th></th>\n",
       "      <th></th>\n",
       "      <th></th>\n",
       "    </tr>\n",
       "  </thead>\n",
       "  <tbody>\n",
       "    <tr>\n",
       "      <th>Milk, human</th>\n",
       "      <td>9602</td>\n",
       "      <td>Human milk</td>\n",
       "      <td>1.03</td>\n",
       "      <td>87.50</td>\n",
       "      <td>0.0</td>\n",
       "      <td>61</td>\n",
       "      <td>0.014</td>\n",
       "      <td>0.036</td>\n",
       "      <td>0.177</td>\n",
       "      <td>0.011</td>\n",
       "      <td>...</td>\n",
       "      <td>70</td>\n",
       "      <td>6.89</td>\n",
       "      <td>4.38</td>\n",
       "      <td>2.009</td>\n",
       "      <td>1.658</td>\n",
       "      <td>0.497</td>\n",
       "      <td>14</td>\n",
       "      <td>0.1</td>\n",
       "      <td>Milks</td>\n",
       "      <td>Animal</td>\n",
       "    </tr>\n",
       "    <tr>\n",
       "      <th>Milk, NFS</th>\n",
       "      <td>1004</td>\n",
       "      <td>Milk, reduced fat</td>\n",
       "      <td>3.34</td>\n",
       "      <td>89.04</td>\n",
       "      <td>0.0</td>\n",
       "      <td>59</td>\n",
       "      <td>0.057</td>\n",
       "      <td>0.137</td>\n",
       "      <td>0.110</td>\n",
       "      <td>0.060</td>\n",
       "      <td>...</td>\n",
       "      <td>51</td>\n",
       "      <td>4.89</td>\n",
       "      <td>1.99</td>\n",
       "      <td>1.164</td>\n",
       "      <td>0.426</td>\n",
       "      <td>0.065</td>\n",
       "      <td>8</td>\n",
       "      <td>1.1</td>\n",
       "      <td>Milks</td>\n",
       "      <td>Animal</td>\n",
       "    </tr>\n",
       "  </tbody>\n",
       "</table>\n",
       "<p>2 rows × 29 columns</p>\n",
       "</div>"
      ]
     },
     "metadata": {},
     "execution_count": 4
    }
   ],
   "metadata": {}
  },
  {
   "cell_type": "code",
   "execution_count": 5,
   "source": [
    "daily_intake_nutrients = [\"Protein (g)\", \"Water (g)\", \"Fiber, total dietary (g)\", \"Vitamin A, RAE (mcg)\", \"Thiamin (mg)\", \"Riboflavin (mg)\", \"Niacin (mg)\", \"Vitamin B-6 (mg)\", \"Vitamin B-12 (mcg)\", \"Folate, total (mcg)\", \"Vitamin C (mg)\", \"Calcium (mg)\", \"Iron (mg)\", \"Magnesium (mg)\", \"Potassium (mg)\", \"Sodium (mg)\", \"Zinc (mg)\"]\n",
    "food1 = nutrition_df.loc[\"Cauliflower, raw\", daily_intake_nutrients]\n",
    "food2 = nutrition_df.loc[\"Milk, human\", daily_intake_nutrients]\n",
    "foods = [food1, food2]"
   ],
   "outputs": [],
   "metadata": {}
  },
  {
   "cell_type": "code",
   "execution_count": 6,
   "source": [
    "f_30 = md.daily_intake(\"female\", 30)\n",
    "f_30_daily_intake = f_30.get_data(daily_intakes_df)"
   ],
   "outputs": [],
   "metadata": {}
  },
  {
   "cell_type": "code",
   "execution_count": null,
   "source": [
    "comparator1 = md.comparator(foods, f_30_daily_intake)\n",
    "to_plot = comparator1.to_plot()"
   ],
   "outputs": [
    {
     "output_type": "error",
     "ename": "NameError",
     "evalue": "name 'comparison' is not defined",
     "traceback": [
      "\u001b[0;31m---------------------------------------------------------------------------\u001b[0m",
      "\u001b[0;31mNameError\u001b[0m                                 Traceback (most recent call last)",
      "\u001b[0;32m<ipython-input-13-c3ef7cbb4b12>\u001b[0m in \u001b[0;36m<module>\u001b[0;34m\u001b[0m\n\u001b[1;32m      1\u001b[0m \u001b[0mcomparator1\u001b[0m \u001b[0;34m=\u001b[0m \u001b[0mmd\u001b[0m\u001b[0;34m.\u001b[0m\u001b[0mcomparator\u001b[0m\u001b[0;34m(\u001b[0m\u001b[0mfoods\u001b[0m\u001b[0;34m,\u001b[0m \u001b[0mf_30_daily_intake\u001b[0m\u001b[0;34m)\u001b[0m\u001b[0;34m\u001b[0m\u001b[0;34m\u001b[0m\u001b[0m\n\u001b[0;32m----> 2\u001b[0;31m \u001b[0mto_plot\u001b[0m \u001b[0;34m=\u001b[0m \u001b[0mcomparator1\u001b[0m\u001b[0;34m.\u001b[0m\u001b[0mto_plot\u001b[0m\u001b[0;34m(\u001b[0m\u001b[0;34m)\u001b[0m\u001b[0;34m\u001b[0m\u001b[0;34m\u001b[0m\u001b[0m\n\u001b[0m",
      "\u001b[0;32m~/Downloads/1_DataScience/Projects/0_Nutrition/src/utils/mining_data_tb.py\u001b[0m in \u001b[0;36mto_plot\u001b[0;34m(self)\u001b[0m\n\u001b[1;32m    188\u001b[0m     \u001b[0;32mdef\u001b[0m \u001b[0mto_plot\u001b[0m\u001b[0;34m(\u001b[0m\u001b[0mself\u001b[0m\u001b[0;34m)\u001b[0m\u001b[0;34m:\u001b[0m\u001b[0;34m\u001b[0m\u001b[0;34m\u001b[0m\u001b[0m\n\u001b[1;32m    189\u001b[0m         \u001b[0;31m# We get the columns with the relative nutritional values of the foods\u001b[0m\u001b[0;34m\u001b[0m\u001b[0;34m\u001b[0m\u001b[0;34m\u001b[0m\u001b[0m\n\u001b[0;32m--> 190\u001b[0;31m         \u001b[0mrel_comparison\u001b[0m \u001b[0;34m=\u001b[0m \u001b[0mcomparison\u001b[0m\u001b[0;34m.\u001b[0m\u001b[0miloc\u001b[0m\u001b[0;34m[\u001b[0m\u001b[0;34m:\u001b[0m\u001b[0;34m,\u001b[0m \u001b[0;34m-\u001b[0m\u001b[0mlen\u001b[0m\u001b[0;34m(\u001b[0m\u001b[0mfoods\u001b[0m\u001b[0;34m)\u001b[0m\u001b[0;34m:\u001b[0m\u001b[0;34m]\u001b[0m\u001b[0;34m\u001b[0m\u001b[0;34m\u001b[0m\u001b[0m\n\u001b[0m\u001b[1;32m    191\u001b[0m \u001b[0;34m\u001b[0m\u001b[0m\n\u001b[1;32m    192\u001b[0m         \u001b[0;31m# We'll save the dataframes in the following list\u001b[0m\u001b[0;34m\u001b[0m\u001b[0;34m\u001b[0m\u001b[0;34m\u001b[0m\u001b[0m\n",
      "\u001b[0;31mNameError\u001b[0m: name 'comparison' is not defined"
     ]
    }
   ],
   "metadata": {}
  },
  {
   "cell_type": "code",
   "execution_count": null,
   "source": [
    "palette = sns.color_palette(\"ch:s=.25,rot=-.25\", as_cmap=True)\n",
    "sns.barplot(x = \"Comparison\", y = \"Nutrient\", hue = \"Food\", data = to_plot)\n",
    "plt.xticks(rotation = 90)\n",
    "plt.show()"
   ],
   "outputs": [
    {
     "output_type": "error",
     "ename": "NameError",
     "evalue": "name 'to_plot' is not defined",
     "traceback": [
      "\u001b[0;31m---------------------------------------------------------------------------\u001b[0m",
      "\u001b[0;31mNameError\u001b[0m                                 Traceback (most recent call last)",
      "\u001b[0;32m<ipython-input-11-c6dcf59de187>\u001b[0m in \u001b[0;36m<module>\u001b[0;34m\u001b[0m\n\u001b[1;32m      1\u001b[0m \u001b[0mpalette\u001b[0m \u001b[0;34m=\u001b[0m \u001b[0msns\u001b[0m\u001b[0;34m.\u001b[0m\u001b[0mcolor_palette\u001b[0m\u001b[0;34m(\u001b[0m\u001b[0;34m\"ch:s=.25,rot=-.25\"\u001b[0m\u001b[0;34m,\u001b[0m \u001b[0mas_cmap\u001b[0m\u001b[0;34m=\u001b[0m\u001b[0;32mTrue\u001b[0m\u001b[0;34m)\u001b[0m\u001b[0;34m\u001b[0m\u001b[0;34m\u001b[0m\u001b[0m\n\u001b[0;32m----> 2\u001b[0;31m \u001b[0msns\u001b[0m\u001b[0;34m.\u001b[0m\u001b[0mbarplot\u001b[0m\u001b[0;34m(\u001b[0m\u001b[0mx\u001b[0m \u001b[0;34m=\u001b[0m \u001b[0;34m\"Comparison\"\u001b[0m\u001b[0;34m,\u001b[0m \u001b[0my\u001b[0m \u001b[0;34m=\u001b[0m \u001b[0;34m\"Nutrient\"\u001b[0m\u001b[0;34m,\u001b[0m \u001b[0mhue\u001b[0m \u001b[0;34m=\u001b[0m \u001b[0;34m\"Food\"\u001b[0m\u001b[0;34m,\u001b[0m \u001b[0mdata\u001b[0m \u001b[0;34m=\u001b[0m \u001b[0mto_plot\u001b[0m\u001b[0;34m)\u001b[0m\u001b[0;34m\u001b[0m\u001b[0;34m\u001b[0m\u001b[0m\n\u001b[0m\u001b[1;32m      3\u001b[0m \u001b[0mplt\u001b[0m\u001b[0;34m.\u001b[0m\u001b[0mxticks\u001b[0m\u001b[0;34m(\u001b[0m\u001b[0mrotation\u001b[0m \u001b[0;34m=\u001b[0m \u001b[0;36m90\u001b[0m\u001b[0;34m)\u001b[0m\u001b[0;34m\u001b[0m\u001b[0;34m\u001b[0m\u001b[0m\n\u001b[1;32m      4\u001b[0m \u001b[0mplt\u001b[0m\u001b[0;34m.\u001b[0m\u001b[0mshow\u001b[0m\u001b[0;34m(\u001b[0m\u001b[0;34m)\u001b[0m\u001b[0;34m\u001b[0m\u001b[0;34m\u001b[0m\u001b[0m\n",
      "\u001b[0;31mNameError\u001b[0m: name 'to_plot' is not defined"
     ]
    }
   ],
   "metadata": {}
  },
  {
   "cell_type": "code",
   "execution_count": null,
   "source": [],
   "outputs": [],
   "metadata": {}
  }
 ],
 "metadata": {
  "orig_nbformat": 4,
  "language_info": {
   "name": "python",
   "version": "3.7.4",
   "mimetype": "text/x-python",
   "codemirror_mode": {
    "name": "ipython",
    "version": 3
   },
   "pygments_lexer": "ipython3",
   "nbconvert_exporter": "python",
   "file_extension": ".py"
  },
  "kernelspec": {
   "name": "python3",
   "display_name": "Python 3.7.4 64-bit"
  },
  "interpreter": {
   "hash": "aee8b7b246df8f9039afb4144a1f6fd8d2ca17a180786b69acc140d282b71a49"
  }
 },
 "nbformat": 4,
 "nbformat_minor": 2
}