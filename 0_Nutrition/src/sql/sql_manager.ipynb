{
 "cells": [
  {
   "cell_type": "code",
   "execution_count": 1,
   "source": [
    "import pandas as pd\n",
    "from sqlalchemy import create_engine\n",
    "\n",
    "import sys, os\n",
    "\n",
    "# Helpers\n",
    "abspath = os.path.abspath\n",
    "dirname = os.path.dirname\n",
    "sep = os.sep\n",
    "file_ = os.getcwd()\n",
    "\n",
    "ml_folder = dirname(file_)\n",
    "sys.path.append(ml_folder)\n",
    "\n",
    "from utils import mining_data_tb as md\n",
    "from utils import visualization_tb as vi\n",
    "from utils import folder_tb as fo\n",
    "from utils import models as mo\n",
    "from utils import sql_tb as sq\n",
    "\n",
    "import warnings\n",
    "warnings.filterwarnings('ignore')"
   ],
   "outputs": [],
   "metadata": {}
  },
  {
   "cell_type": "markdown",
   "source": [
    "# Data to upload"
   ],
   "metadata": {}
  },
  {
   "cell_type": "code",
   "execution_count": 4,
   "source": [
    "# 1) We will load the data that we want to save in our database\n",
    "# Paths to data\n",
    "data_path = fo.path_to_folder(2, \"data\")\n",
    "\n",
    "environment_path = data_path + \"environment\"\n",
    "\n",
    "health_path = data_path + \"health\"\n",
    "models_path = fo.path_to_folder(2, \"models\")\n",
    "\n",
    "# Load data\n",
    "resources = pd.read_csv(environment_path + sep + \"resources.csv\", index_col = 0)\n",
    "nutrition = pd.read_csv(environment_path + sep + \"nutritional_values.csv\", index_col = 0)\n",
    "daily_intakes = pd.read_csv(environment_path + sep + \"daily_intakes.csv\", index_col = 0)\n",
    "\n",
    "\n",
    "health = pd.read_csv(health_path + sep + \"7_cleaned_data\" + sep + \"cleaned_data.csv\", index_col = 0)\n",
    "\n",
    "imbalanced_models = pd.read_csv(models_path + \"model_comparison_noscale_nobalance.csv\", index_col = 0)\n",
    "balanced_models = pd.read_csv(models_path + \"model_comparison_scaled_balanced.csv\", index_col = 0)"
   ],
   "outputs": [],
   "metadata": {}
  },
  {
   "cell_type": "markdown",
   "source": [
    "# SQL Connection"
   ],
   "metadata": {}
  },
  {
   "cell_type": "code",
   "execution_count": 20,
   "source": [
    "# Load server setting into variables\n",
    "read_json = md.read_json_to_dict(\"sql_server_settings.json\")\n",
    "\n",
    "IP_DNS = read_json[\"IP_DNS\"]\n",
    "USER = read_json[\"USER\"]\n",
    "PASSWORD = read_json[\"PASSWORD\"]\n",
    "DB_NAME = read_json[\"DB_NAME\"]\n",
    "PORT = read_json[\"PORT\"]"
   ],
   "outputs": [],
   "metadata": {}
  },
  {
   "cell_type": "code",
   "execution_count": null,
   "source": [
    "# Connection with the database\n",
    "sql_db = sq.MySQL(IP_DNS, USER, PASSWORD, DB_NAME, PORT)\n",
    "sql_db.connect()"
   ],
   "outputs": [],
   "metadata": {}
  },
  {
   "cell_type": "code",
   "execution_count": null,
   "source": [
    "db_connection_str = sql_db.SQL_ALCHEMY\n",
    "db_connection = create_engine(db_connection_str)"
   ],
   "outputs": [],
   "metadata": {}
  },
  {
   "cell_type": "code",
   "execution_count": null,
   "source": [
    "### DON'T EXECUTE THIS ONE\n",
    "\n",
    "# Uploading the data into the db\n",
    "# Datasets\n",
    "resources.to_sql(\"resources\", con = db_connection, index = False)\n",
    "nutrition.to_sql(\"nutrition\", con = db_connection, index = False)\n",
    "daily_intakes.to_sql(\"daily_intakes\", con = db_connection, index = False)\n",
    "health.to_sql(\"health\", con = db_connection, index = False)\n",
    "imbalanced_models.to_sql(\"imbalanced_models\", con = db_connection, index = False)\n",
    "balanced_models.to_sql(\"balanced_models\", con = db_connection, index = False)\n"
   ],
   "outputs": [],
   "metadata": {}
  },
  {
   "cell_type": "code",
   "execution_count": null,
   "source": [
    "# Close connection\n",
    "sql_db.close()"
   ],
   "outputs": [],
   "metadata": {}
  }
 ],
 "metadata": {
  "orig_nbformat": 4,
  "language_info": {
   "name": "python",
   "version": "3.7.4",
   "mimetype": "text/x-python",
   "codemirror_mode": {
    "name": "ipython",
    "version": 3
   },
   "pygments_lexer": "ipython3",
   "nbconvert_exporter": "python",
   "file_extension": ".py"
  },
  "kernelspec": {
   "name": "python3",
   "display_name": "Python 3.7.4 64-bit"
  },
  "interpreter": {
   "hash": "aee8b7b246df8f9039afb4144a1f6fd8d2ca17a180786b69acc140d282b71a49"
  }
 },
 "nbformat": 4,
 "nbformat_minor": 2
}