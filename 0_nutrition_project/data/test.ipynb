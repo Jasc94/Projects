{
 "cells": [
  {
   "cell_type": "code",
   "execution_count": 1,
   "source": [
    "# Let's import the necessary libraries\n",
    "import pandas as pd\n",
    "import numpy as np\n",
    "\n",
    "import sys, os\n",
    "\n",
    "# Helpers\n",
    "abspath = os.path.abspath\n",
    "dirname = os.path.dirname\n",
    "sep = os.sep\n",
    "file_ = os.getcwd()\n",
    "\n",
    "ml_folder = dirname(file_)\n",
    "sys.path.append(ml_folder)\n",
    "\n",
    "import warnings\n",
    "warnings.filterwarnings('ignore')"
   ],
   "outputs": [],
   "metadata": {}
  },
  {
   "cell_type": "code",
   "execution_count": 79,
   "source": [
    "raw = pd.read_csv(\"health/7_cleaned_data/full_raw_data.csv\", index_col = 0)\n",
    "\n",
    "cond1 = raw.MCQ160B.notna() == True\n",
    "cond2 = raw.MCQ160C.notna() == True\n",
    "cond3 = raw.MCQ160D.notna() == True\n",
    "cond4 = raw.MCQ160E.notna() == True\n",
    "cond5 = raw.MCQ160F.notna() == True\n",
    "\n",
    "raw = raw[(cond1) | (cond2) | (cond3) | (cond4) | (cond5)]\n",
    "\n",
    "raw = raw.dropna(axis = 1, thresh = 12000)\n",
    "raw.shape"
   ],
   "outputs": [
    {
     "output_type": "execute_result",
     "data": {
      "text/plain": [
       "(16885, 340)"
      ]
     },
     "metadata": {},
     "execution_count": 79
    }
   ],
   "metadata": {}
  },
  {
   "cell_type": "code",
   "execution_count": 81,
   "source": [
    "for col in raw.columns[:50]: print(col)"
   ],
   "outputs": [
    {
     "output_type": "execute_result",
     "data": {
      "text/plain": [
       "Index(['SDDSRVYR', 'RIDSTATR', 'RIAGENDR', 'RIDAGEYR', 'RIDRETH1', 'RIDRETH3',\n",
       "       'RIDEXMON', 'DMQMILIZ', 'DMDBORN4', 'DMDCITZN',\n",
       "       ...\n",
       "       'PAQ635', 'PAQ650', 'PAQ665', 'PAD680', 'SMQ681', 'SMQ851', 'SMQ863',\n",
       "       'SMDANY', 'SMAQUEX', 'MCQ160H'],\n",
       "      dtype='object', length=340)"
      ]
     },
     "metadata": {},
     "execution_count": 81
    }
   ],
   "metadata": {}
  },
  {
   "cell_type": "code",
   "execution_count": 80,
   "source": [
    "raw.to_csv(\"health/7_cleaned_data/sample_raw_data.csv\")"
   ],
   "outputs": [],
   "metadata": {}
  },
  {
   "cell_type": "code",
   "execution_count": null,
   "source": [],
   "outputs": [],
   "metadata": {}
  }
 ],
 "metadata": {
  "orig_nbformat": 4,
  "language_info": {
   "name": "python",
   "version": "3.7.4",
   "mimetype": "text/x-python",
   "codemirror_mode": {
    "name": "ipython",
    "version": 3
   },
   "pygments_lexer": "ipython3",
   "nbconvert_exporter": "python",
   "file_extension": ".py"
  },
  "kernelspec": {
   "name": "python3",
   "display_name": "Python 3.7.4 64-bit"
  },
  "interpreter": {
   "hash": "aee8b7b246df8f9039afb4144a1f6fd8d2ca17a180786b69acc140d282b71a49"
  }
 },
 "nbformat": 4,
 "nbformat_minor": 2
}